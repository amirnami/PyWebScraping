{
 "cells": [
  {
   "cell_type": "code",
   "execution_count": 1,
   "metadata": {},
   "outputs": [],
   "source": [
    "import urllib.request"
   ]
  },
  {
   "cell_type": "code",
   "execution_count": 2,
   "metadata": {},
   "outputs": [],
   "source": [
    "response = urllib.request.urlopen(\"https://python.org\")"
   ]
  },
  {
   "cell_type": "code",
   "execution_count": 3,
   "metadata": {},
   "outputs": [
    {
     "name": "stdout",
     "output_type": "stream",
     "text": [
      "https://www.python.org/\n"
     ]
    }
   ],
   "source": [
    "print(response.geturl())"
   ]
  },
  {
   "cell_type": "code",
   "execution_count": 4,
   "metadata": {},
   "outputs": [
    {
     "name": "stdout",
     "output_type": "stream",
     "text": [
      "....Python.org web server info....\n",
      "Server: nginx\n",
      "Content-Type: text/html; charset=utf-8\n",
      "X-Frame-Options: SAMEORIGIN\n",
      "x-xss-protection: 1; mode=block\n",
      "X-Clacks-Overhead: GNU Terry Pratchett\n",
      "Via: 1.1 varnish\n",
      "Content-Length: 48825\n",
      "Accept-Ranges: bytes\n",
      "Date: Mon, 06 Aug 2018 13:00:01 GMT\n",
      "Via: 1.1 varnish\n",
      "Age: 2057\n",
      "Connection: close\n",
      "X-Served-By: cache-iad2148-IAD, cache-cdg20734-CDG\n",
      "X-Cache: HIT, HIT\n",
      "X-Cache-Hits: 2, 3\n",
      "X-Timer: S1533560402.585041,VS0,VE0\n",
      "Vary: Cookie\n",
      "Strict-Transport-Security: max-age=63072000; includeSubDomains\n",
      "\n",
      "\n"
     ]
    }
   ],
   "source": [
    "print(\"....Python.org web server info....\")\n",
    "print(response.info())"
   ]
  },
  {
   "cell_type": "code",
   "execution_count": 5,
   "metadata": {},
   "outputs": [
    {
     "name": "stdout",
     "output_type": "stream",
     "text": [
      "Python.org use 'nginx' as web server\n"
     ]
    }
   ],
   "source": [
    "print(\"Python.org use \\'{}\\' as web server\".format(response.info()['Server']))"
   ]
  },
  {
   "cell_type": "code",
   "execution_count": 6,
   "metadata": {},
   "outputs": [
    {
     "name": "stdout",
     "output_type": "stream",
     "text": [
      "url 'https://www.python.org/' opened\n"
     ]
    }
   ],
   "source": [
    "if response.getcode() == 200:\n",
    "    print(\"url \\'{}\\' opened\".format(response.geturl()))"
   ]
  }
 ],
 "metadata": {
  "kernelspec": {
   "display_name": "Python 3",
   "language": "python",
   "name": "python3"
  },
  "language_info": {
   "codemirror_mode": {
    "name": "ipython",
    "version": 3
   },
   "file_extension": ".py",
   "mimetype": "text/x-python",
   "name": "python",
   "nbconvert_exporter": "python",
   "pygments_lexer": "ipython3",
   "version": "3.5.5"
  }
 },
 "nbformat": 4,
 "nbformat_minor": 2
}
